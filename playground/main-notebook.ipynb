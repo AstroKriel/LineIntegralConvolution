{
 "cells": [
  {
   "cell_type": "code",
   "execution_count": null,
   "id": "dd3505bb-e08b-4d90-9207-9242107d4370",
   "metadata": {},
   "outputs": [],
   "source": [
    "## This file is part of the \"LineIntegralConvolution\" project.\n",
    "## Copyright (c) 2025 Neco Kriel.\n",
    "## Licensed under the MIT License. See LICENSE for details."
   ]
  },
  {
   "cell_type": "code",
   "execution_count": null,
   "id": "dca027f5-8312-4457-9938-ee5b62b6c230",
   "metadata": {},
   "outputs": [],
   "source": [
    "## ###############################################################\n",
    "## DEPENDENCIES\n",
    "## ###############################################################\n",
    "\n",
    "import sys\n",
    "print(\"Using Python env:\", sys.executable)\n",
    "\n",
    "import time\n",
    "import matplotlib.pyplot as mpl_plot\n",
    "from vegtamr.lic import compute_lic_with_postprocessing\n",
    "from vegtamr.utils import vfields, plots\n"
   ]
  },
  {
   "cell_type": "code",
   "execution_count": null,
   "id": "350bc29b-5768-4ca6-b36e-ac93752f2bc6",
   "metadata": {},
   "outputs": [],
   "source": [
    "## ###############################################################\n",
    "## MAIN PROGRAM\n",
    "## ###############################################################\n",
    "\n",
    "num_cells    = 1000\n",
    "vfield_dict  = vfields.vfield_swirls(num_cells=num_cells)\n",
    "vfield       = vfield_dict[\"vfield\"]\n",
    "streamlength = vfield_dict[\"streamlength\"]\n",
    "bounds_rows  = vfield_dict[\"bounds_rows\"]\n",
    "bounds_cols  = vfield_dict[\"bounds_cols\"]\n",
    "vfield_name  = vfield_dict[\"name\"]\n",
    "print(\"Computing LIC...\")\n",
    "## apply the LIC multiple times: equivelant to applying several passes with a paint brush.\n",
    "## note: `backend` options include \"python\" (this project) or \"rust\" (10x faster; https://github.com/tlorach/rLIC)\n",
    "start_time = time.perf_counter()\n",
    "sfield = compute_lic_with_postprocessing(\n",
    "    vfield          = vfield,\n",
    "    streamlength    = streamlength,\n",
    "    use_filter      = True,\n",
    "    filter_sigma    = 5e-2 * num_cells, # approx width of LIC tubes\n",
    "    use_equalize    = True,\n",
    "    backend         = \"rust\",\n",
    ")\n",
    "elapsed_time = time.perf_counter() - start_time\n",
    "print(f\"LIC execution took {elapsed_time:.3f} seconds.\")"
   ]
  },
  {
   "cell_type": "code",
   "execution_count": null,
   "id": "0d1ba2fa",
   "metadata": {},
   "outputs": [],
   "source": [
    "fig, ax = mpl_plot.subplots(figsize=(10,10))\n",
    "plots.plot_lic(\n",
    "    ax                  = ax,\n",
    "    sfield              = sfield,\n",
    "    vfield              = vfield,\n",
    "    bounds_rows         = bounds_rows,\n",
    "    bounds_cols         = bounds_cols,\n",
    "    overlay_streamlines = False,\n",
    ")"
   ]
  }
 ],
 "metadata": {
  "kernelspec": {
   "display_name": "vegtamr",
   "language": "python",
   "name": "python3"
  },
  "language_info": {
   "codemirror_mode": {
    "name": "ipython",
    "version": 3
   },
   "file_extension": ".py",
   "mimetype": "text/x-python",
   "name": "python",
   "nbconvert_exporter": "python",
   "pygments_lexer": "ipython3",
   "version": "3.11.13"
  }
 },
 "nbformat": 4,
 "nbformat_minor": 5
}
